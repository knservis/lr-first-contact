{
 "cells": [
  {
   "cell_type": "markdown",
   "id": "93b51fc8-be63-4bff-b358-6a2d33f3ba25",
   "metadata": {},
   "source": [
    "# Linear regression first contact\n",
    "\n",
    "The purpose of this notebook is to demonstrate in a very simple way how one would use Python to fit a line to data and how one could use that."
   ]
  },
  {
   "cell_type": "markdown",
   "id": "25aa2693-6b4c-47ad-9c51-83741b0dcca0",
   "metadata": {},
   "source": [
    "## Scenario\n",
    "\n",
    "You are running an ice cream kiosk in your local park. You are recording the sales your kiosk makes and you are trying to predict the perishble stock you need for a certain day. You can tell intuitively that on a warm day the kiosk is busier that on a cool day so you decide to find out if your intuition is correct. \n",
    "\n",
    "You decide to investigate that by adding the temperatures in an array and the sales volume in another array in the same order. You will be using Python as you remembered a guy from Pawsey telling you that it is really easy to do it. "
   ]
  },
  {
   "cell_type": "code",
   "execution_count": 2,
   "id": "c3b5acd9-17e5-4427-a24e-6a878e8a71be",
   "metadata": {},
   "outputs": [],
   "source": [
    "# Here we enter the centigrade temperatures that we found on BOM http://www.bom.gov.au/ for the last 10 days we had the kiosk open in order\n",
    "\n",
    "# Centigrade temperatures\n",
    "temperatures = [ 12.1, 21.5, 14.1, 16.7, 18.9, 24.1, 28.9, 25.6, 21.6, 22.3 ]\n",
    "\n",
    "# Sale in AUD\n",
    "sales = [ 120, 240, 151, 158, 181, 240, 266, 251, 231, 239 ]"
   ]
  },
  {
   "cell_type": "markdown",
   "id": "c452746d-0437-45c7-9842-fbbfd23c3d4b",
   "metadata": {},
   "source": [
    "Let us first have a look at what our data look like using the Python matplotlib library to create a plot of the temperature vs the sales volume."
   ]
  },
  {
   "cell_type": "code",
   "execution_count": 7,
   "id": "30adb801-92ac-4fde-8ba7-eb8f7286c687",
   "metadata": {},
   "outputs": [
    {
     "data": {
      "image/png": "[encoded data removed]",
      "text/plain": [
       "<Figure size 432x288 with 1 Axes>"
      ]
     },
     "metadata": {
      "needs_background": "light"
     },
     "output_type": "display_data"
    }
   ],
   "source": [
    "import matplotlib.pyplot as plt\n",
    "\n",
    "plt.scatter(temperatures, sales)\n",
    "plt.xlabel('Temperature in C')\n",
    "plt.ylabel('Sales in AUD')\n",
    "plt.show()"
   ]
  },
  {
   "cell_type": "markdown",
   "id": "01809dc9-2d4d-470c-ac16-f0f0eb6397a9",
   "metadata": {},
   "source": [
    "It looks like the intuition is true. It \"should\" then be possible to predict how much stock to keep in order to reduce waste but also serve as many customers as possible. \n",
    "\n",
    "You remember that guy from Pawsey telling you that you can try \"fitting a line\" in some circumstances to make predictions, so you decide to give it a go. \n",
    "\n",
    "One way to do that is using a library called scipy which has a function called [linregress](https://docs.scipy.org/doc/scipy/reference/generated/scipy.stats.linregress.html) where somebody has already implemented the correct algorithm to do that. \n",
    "\n",
    "We will assign the result to a varible called 'lr' and print that (as that is supported by LinregressResult which is what we get back from the function) to inspect its members. "
   ]
  },
  {
   "cell_type": "code",
   "execution_count": 4,
   "id": "68f20c84-55fc-4172-8c1d-a93970b3c2e7",
   "metadata": {},
   "outputs": [
    {
     "name": "stdout",
     "output_type": "stream",
     "text": [
      "LinregressResult(slope=9.334034407400711, intercept=15.605571895693345, rvalue=0.9608629551975686, pvalue=9.790078658245796e-06, stderr=0.951438211643042, intercept_stderr=20.135453912363424)\n"
     ]
    }
   ],
   "source": [
    "from scipy import stats\n",
    "\n",
    "lr = stats.linregress(temperatures, sales)\n",
    "print(lr)"
   ]
  },
  {
   "cell_type": "markdown",
   "id": "bd88de39-0787-4d61-9277-368da03f7c5d",
   "metadata": {},
   "source": [
    "We can see that it contains a few members, including \"slope\" and \"intercept\". These correspond to a and b in our line:\n",
    "\n",
    "$ y = a x + b $\n",
    "\n",
    "Great, scipy did its magic (in this case [least squares](https://en.wikipedia.org/wiki/Least_squares))! Let us now visualise that result:"
   ]
  },
  {
   "cell_type": "code",
   "execution_count": 8,
   "id": "7f48234c-754a-4cb4-8999-64da7026eb9c",
   "metadata": {},
   "outputs": [
    {
     "data": {
      "image/png": "[encoded data removed]",
      "text/plain": [
       "<Figure size 432x288 with 1 Axes>"
      ]
     },
     "metadata": {
      "needs_background": "light"
     },
     "output_type": "display_data"
    }
   ],
   "source": [
    "import numpy as np\n",
    "# Temperature range to show the line\n",
    "t_range = np.linspace(10, 30)\n",
    "\n",
    "plt.plot(temperatures, sales, 'o', label='original data')\n",
    "plt.plot(t_range, lr.intercept + lr.slope*t_range, 'r', label='fitted line')\n",
    "plt.legend()\n",
    "plt.xlabel('Temperature in C')\n",
    "plt.ylabel('Sales in AUD')\n",
    "plt.show()"
   ]
  },
  {
   "cell_type": "markdown",
   "id": "2c5b45eb-9c59-4824-9c0e-a460761e427a",
   "metadata": {},
   "source": [
    "Looks good. Now BOM tells us that the temperature tomorrow will be $27.1^{o}C$ can I estimate my sales volume?\n",
    "\n",
    "Sure I can (but see warnings below) all I have to do is plug in that number to the equation."
   ]
  },
  {
   "cell_type": "code",
   "execution_count": 11,
   "id": "ba54f0b6-f42e-4f8b-b721-8175f4ad1e5f",
   "metadata": {},
   "outputs": [
    {
     "name": "stdout",
     "output_type": "stream",
     "text": [
      "For a temeprature of 27.1 centigrade my sales will be around: 268.55790433625265 AUD\n"
     ]
    }
   ],
   "source": [
    "given_temperature = 27.1\n",
    "estimated_sales = given_temperature * lr.slope + lr.intercept\n",
    "print(f'For a temeprature of {given_temperature} centigrade my sales will be around: {estimated_sales} AUD')"
   ]
  },
  {
   "cell_type": "markdown",
   "id": "153bf3eb-0b37-479c-bf91-e77ac5d6a719",
   "metadata": {},
   "source": [
    "Great we know everything with absolute certainty! We are done! \n",
    "\n",
    "Not so fast!\n",
    "\n",
    "What does that number for estimated sales mean? Can I take it to the bank? \n",
    "\n",
    "Actually, it means that given what we have seen before if our assumptions hold (linearity among others that we did not explicitly state) for a very large number of days that the temperature is 27.1 the mean of the sales is going to be that number. \n",
    "\n",
    "You may say at this point: \"Why do we have to make this hard doc? Can I not just use that number and that technique everywhere?\" \n",
    "\n",
    "And the answer is absolutely not.\n",
    "\n",
    "- Why not?\n",
    "\n",
    "- Because as you can see the values fluctuate above and below are estimate (and the result we have these error members) which will give su a \"likely range\" for the sales.\n",
    "- Because we have assumed that there is a linear relationship and did not quantify how well that assumption fits the data. \n",
    "- Because we need to consider other factors when applying this estimate. We cannot apply this fit to a temperature of $200^{o}C$ for instance as the sales are almost cetrainly zero at this point as no person or fridge is likely to survive that temperature. \n",
    "- Finally, it is important to note that temperature and ice cream sales exhibit a correlation but that does not mean that there is a causal relationship. We could also plot temperature vs murder rate and still see a correlation but that does not mean that one causes the other. \n"
   ]
  }
 ],
 "metadata": {
  "kernelspec": {
   "display_name": "Python 3",
   "language": "python",
   "name": "python3"
  },
  "language_info": {
   "codemirror_mode": {
    "name": "ipython",
    "version": 3
   },
   "file_extension": ".py",
   "mimetype": "text/x-python",
   "name": "python",
   "nbconvert_exporter": "python",
   "pygments_lexer": "ipython3",
   "version": "3.9.5"
  }
 },
 "nbformat": 4,
 "nbformat_minor": 5
}
